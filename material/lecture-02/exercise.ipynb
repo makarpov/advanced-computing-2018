{
 "cells": [
  {
   "cell_type": "markdown",
   "metadata": {},
   "source": [
    "# Exercise 2\n",
    "\n",
    "Work on this before the next lecture on 12 April. We will talk about questions, comments, and solutions during the exercise after the third lecture.\n",
    "\n",
    "Please do form study groups! When you do, make sure you can explain everything in your own words, do not simply copy&paste from others.\n",
    "\n",
    "The solutions to a lot of these problems can probably be found with Google. Please don't. You will not learn a lot by copy&pasting from the internet.\n",
    "\n",
    "If you want to get credit/examination on this course please upload your work to your GitHub repository for this course before the next lecture starts and post a link to your repository in [this thread](https://github.com/wildtreetech/advanced-computing-2018/issues/3). If you worked on things together with others please add their names to the notebook so we can see who formed groups."
   ]
  },
  {
   "cell_type": "code",
   "execution_count": 1,
   "metadata": {},
   "outputs": [],
   "source": [
    "%config InlineBackend.figure_format='retina'\n",
    "%matplotlib inline\n",
    "\n",
    "import numpy as np\n",
    "np.random.seed(123)\n",
    "import matplotlib.pyplot as plt\n",
    "plt.rcParams[\"figure.figsize\"] = (8, 8)\n",
    "plt.rcParams[\"font.size\"] = 14\n",
    "from sklearn.utils import check_random_state"
   ]
  },
  {
   "cell_type": "markdown",
   "metadata": {},
   "source": [
    "# Question 1\n",
    "\n",
    "Build your own random forest classifier! Using the `DecisionTreeClassifier` from scikit-learn (http://scikit-learn.org/stable/modules/generated/sklearn.tree.DecisionTreeClassifier.html) construct your own `RandomForestClassifier`.\n",
    "\n",
    "There are two methods for adding randomisation to the tree growing process:\n",
    "\n",
    "* grow each tree on a bootstrap sample of the data\n",
    "* configure each tree to select a subset of features for each split\n",
    "\n",
    "Try out your new `RandomForestClassifier` on the https://archive.ics.uci.edu/ml/datasets/bank+marketing dataset.\n",
    "\n",
    "**Note:** To test your classifier it is a good idea to use a smaller dataset like the `make_blobs` from the lecture. It will run much faster and be easier to debug.\n",
    "\n",
    "* Can you show that a forest of trees that are all the same performs like a single decision tree?\n",
    "* Can you compute the correlation coefficient between scores assigned by two different trees in the forest? In order to gain from buildign a forest you want your trees to not be 100% correlated. Experiment with the different randomisation strategies to check that they work."
   ]
  },
  {
   "cell_type": "code",
   "execution_count": 2,
   "metadata": {},
   "outputs": [],
   "source": [
    "# your code here"
   ]
  },
  {
   "cell_type": "markdown",
   "metadata": {},
   "source": [
    "# Question 2\n",
    "\n",
    "Use the ready made `RandomForestClassifier` from scikit-learn to create the best model you can for the Bank Marketing dataset. Use `GridSearchCV` (or any other method) to tune your model and possible pre-processing steps. Make sure you have a test set to use after you are done tuning to estimate your generalisation error."
   ]
  },
  {
   "cell_type": "code",
   "execution_count": 3,
   "metadata": {},
   "outputs": [],
   "source": [
    "# your code here"
   ]
  },
  {
   "cell_type": "markdown",
   "metadata": {},
   "source": [
    "# Question 3\n",
    "\n",
    "Compare the feature importances calculated by a `RandomForestClassifier`, `ExtraTreesClassifier` and `GradientBoostedTreesClassifier` on the california housing dataset. You might have to tune `n_estimators` and other hyper-parameters to get good performance.\n",
    "\n",
    "Plot each of the features as a scatter plot with the target to learn about each variable. You can also make a plot of two features and use the target as colour.\n",
    "\n",
    "Fit a model and tune the model complexity using a training and test data set.\n",
    "\n",
    "Explore the feature importances and partial dependences that are important to the house price."
   ]
  },
  {
   "cell_type": "code",
   "execution_count": 4,
   "metadata": {},
   "outputs": [],
   "source": [
    "from sklearn.datasets.california_housing import fetch_california_housing\n",
    "\n",
    "cal_housing = fetch_california_housing()\n",
    "\n",
    "# if the above doesn't work, download `cal_housing_py3.pkl` from the GitHub repository\n",
    "# and adjust the path to the downloaded file which is passed to `load()`\n",
    "# uncomment the following lines\n",
    "#from sklearn.externals.joblib import load\n",
    "#d = load('/home/username/Downloads/cal_housing_py3.pkz')\n",
    "#X, y = d[:,1:], d[:,0]/100000\n",
    "#X[:, 2] /= X[:, 5]\n",
    "#X[:, 3] /= X[:, 5]\n",
    "#X[:, 5] = X[:, 4] / X[:, 5]\n",
    "\n",
    "# your code here"
   ]
  },
  {
   "cell_type": "markdown",
   "metadata": {},
   "source": [
    "# Question 4\n",
    "\n",
    "Competition time! Use any model you want (and understand) to make the best model you can to predict the target in the below dataset.\n",
    "\n",
    "Each student's submission will be ranked by:\n",
    "* their performance (using [AUC ROC](http://scikit-learn.org/stable/modules/generated/sklearn.metrics.roc_auc_score.html) as metric) and\n",
    "* how well they did at predicting their generalisation error.\n",
    "\n",
    "Your final rank will be the average of your two ranks.\n",
    "\n",
    "To evaluate how good you did at predicting your generalisation error Tim will release a fresh test data set after the hand-in deadline. You can then re-run your trained classifier on that data and score its performance. We will rank students by the difference between that score and their predicted score.\n",
    "\n",
    "You can read in the data using the `pandas` library. The final column of the file contains the target (zero or one)."
   ]
  },
  {
   "cell_type": "code",
   "execution_count": 5,
   "metadata": {},
   "outputs": [
    {
     "data": {
      "text/html": [
       "<div>\n",
       "<style scoped>\n",
       "    .dataframe tbody tr th:only-of-type {\n",
       "        vertical-align: middle;\n",
       "    }\n",
       "\n",
       "    .dataframe tbody tr th {\n",
       "        vertical-align: top;\n",
       "    }\n",
       "\n",
       "    .dataframe thead th {\n",
       "        text-align: right;\n",
       "    }\n",
       "</style>\n",
       "<table border=\"1\" class=\"dataframe\">\n",
       "  <thead>\n",
       "    <tr style=\"text-align: right;\">\n",
       "      <th></th>\n",
       "      <th>0</th>\n",
       "      <th>1</th>\n",
       "      <th>2</th>\n",
       "      <th>3</th>\n",
       "      <th>4</th>\n",
       "      <th>5</th>\n",
       "      <th>6</th>\n",
       "      <th>7</th>\n",
       "      <th>8</th>\n",
       "      <th>9</th>\n",
       "      <th>...</th>\n",
       "      <th>39</th>\n",
       "      <th>40</th>\n",
       "      <th>41</th>\n",
       "      <th>42</th>\n",
       "      <th>43</th>\n",
       "      <th>44</th>\n",
       "      <th>45</th>\n",
       "      <th>46</th>\n",
       "      <th>47</th>\n",
       "      <th>48</th>\n",
       "    </tr>\n",
       "  </thead>\n",
       "  <tbody>\n",
       "    <tr>\n",
       "      <th>0</th>\n",
       "      <td>0.000576</td>\n",
       "      <td>0.999939</td>\n",
       "      <td>12.769232</td>\n",
       "      <td>0.584357</td>\n",
       "      <td>0.136273</td>\n",
       "      <td>13.359463</td>\n",
       "      <td>3.358099</td>\n",
       "      <td>14655.587891</td>\n",
       "      <td>0.005370</td>\n",
       "      <td>0.041032</td>\n",
       "      <td>...</td>\n",
       "      <td>58935.695312</td>\n",
       "      <td>74241.648438</td>\n",
       "      <td>4598.116699</td>\n",
       "      <td>2.897916</td>\n",
       "      <td>2.932629</td>\n",
       "      <td>3.193417</td>\n",
       "      <td>267</td>\n",
       "      <td>-99</td>\n",
       "      <td>0.381424</td>\n",
       "      <td>0</td>\n",
       "    </tr>\n",
       "    <tr>\n",
       "      <th>1</th>\n",
       "      <td>0.001807</td>\n",
       "      <td>0.999996</td>\n",
       "      <td>18.585171</td>\n",
       "      <td>0.368892</td>\n",
       "      <td>0.054991</td>\n",
       "      <td>3.600483</td>\n",
       "      <td>6.781577</td>\n",
       "      <td>4145.290527</td>\n",
       "      <td>0.030382</td>\n",
       "      <td>0.034570</td>\n",
       "      <td>...</td>\n",
       "      <td>20553.839844</td>\n",
       "      <td>12501.964844</td>\n",
       "      <td>28162.607422</td>\n",
       "      <td>3.584545</td>\n",
       "      <td>3.010242</td>\n",
       "      <td>3.322494</td>\n",
       "      <td>128</td>\n",
       "      <td>1</td>\n",
       "      <td>0.781520</td>\n",
       "      <td>1</td>\n",
       "    </tr>\n",
       "    <tr>\n",
       "      <th>2</th>\n",
       "      <td>0.000858</td>\n",
       "      <td>0.999304</td>\n",
       "      <td>4.794842</td>\n",
       "      <td>0.149876</td>\n",
       "      <td>0.172385</td>\n",
       "      <td>16.130068</td>\n",
       "      <td>3.723242</td>\n",
       "      <td>4936.734375</td>\n",
       "      <td>0.017344</td>\n",
       "      <td>0.027622</td>\n",
       "      <td>...</td>\n",
       "      <td>7566.020020</td>\n",
       "      <td>11801.971680</td>\n",
       "      <td>16086.186523</td>\n",
       "      <td>2.700943</td>\n",
       "      <td>2.920070</td>\n",
       "      <td>2.407294</td>\n",
       "      <td>254</td>\n",
       "      <td>-99</td>\n",
       "      <td>0.508650</td>\n",
       "      <td>0</td>\n",
       "    </tr>\n",
       "    <tr>\n",
       "      <th>3</th>\n",
       "      <td>0.001519</td>\n",
       "      <td>0.999969</td>\n",
       "      <td>15.656528</td>\n",
       "      <td>0.312301</td>\n",
       "      <td>0.125831</td>\n",
       "      <td>8.113082</td>\n",
       "      <td>5.763765</td>\n",
       "      <td>4948.376465</td>\n",
       "      <td>0.035185</td>\n",
       "      <td>0.038973</td>\n",
       "      <td>...</td>\n",
       "      <td>19161.880859</td>\n",
       "      <td>18598.472656</td>\n",
       "      <td>17658.548828</td>\n",
       "      <td>3.108439</td>\n",
       "      <td>2.932674</td>\n",
       "      <td>3.164568</td>\n",
       "      <td>531</td>\n",
       "      <td>-99</td>\n",
       "      <td>0.682114</td>\n",
       "      <td>0</td>\n",
       "    </tr>\n",
       "    <tr>\n",
       "      <th>4</th>\n",
       "      <td>0.000936</td>\n",
       "      <td>0.999978</td>\n",
       "      <td>8.998086</td>\n",
       "      <td>0.475861</td>\n",
       "      <td>0.065347</td>\n",
       "      <td>3.863127</td>\n",
       "      <td>3.675261</td>\n",
       "      <td>4757.155762</td>\n",
       "      <td>0.022795</td>\n",
       "      <td>0.046165</td>\n",
       "      <td>...</td>\n",
       "      <td>12651.365234</td>\n",
       "      <td>33099.660156</td>\n",
       "      <td>10722.979492</td>\n",
       "      <td>2.873017</td>\n",
       "      <td>3.074762</td>\n",
       "      <td>4.136894</td>\n",
       "      <td>160</td>\n",
       "      <td>5</td>\n",
       "      <td>0.633693</td>\n",
       "      <td>1</td>\n",
       "    </tr>\n",
       "  </tbody>\n",
       "</table>\n",
       "<p>5 rows × 49 columns</p>\n",
       "</div>"
      ],
      "text/plain": [
       "         0         1          2         3         4          5         6   \\\n",
       "0  0.000576  0.999939  12.769232  0.584357  0.136273  13.359463  3.358099   \n",
       "1  0.001807  0.999996  18.585171  0.368892  0.054991   3.600483  6.781577   \n",
       "2  0.000858  0.999304   4.794842  0.149876  0.172385  16.130068  3.723242   \n",
       "3  0.001519  0.999969  15.656528  0.312301  0.125831   8.113082  5.763765   \n",
       "4  0.000936  0.999978   8.998086  0.475861  0.065347   3.863127  3.675261   \n",
       "\n",
       "             7         8         9  ...            39            40  \\\n",
       "0  14655.587891  0.005370  0.041032 ...  58935.695312  74241.648438   \n",
       "1   4145.290527  0.030382  0.034570 ...  20553.839844  12501.964844   \n",
       "2   4936.734375  0.017344  0.027622 ...   7566.020020  11801.971680   \n",
       "3   4948.376465  0.035185  0.038973 ...  19161.880859  18598.472656   \n",
       "4   4757.155762  0.022795  0.046165 ...  12651.365234  33099.660156   \n",
       "\n",
       "             41        42        43        44   45  46        47  48  \n",
       "0   4598.116699  2.897916  2.932629  3.193417  267 -99  0.381424   0  \n",
       "1  28162.607422  3.584545  3.010242  3.322494  128   1  0.781520   1  \n",
       "2  16086.186523  2.700943  2.920070  2.407294  254 -99  0.508650   0  \n",
       "3  17658.548828  3.108439  2.932674  3.164568  531 -99  0.682114   0  \n",
       "4  10722.979492  2.873017  3.074762  4.136894  160   5  0.633693   1  \n",
       "\n",
       "[5 rows x 49 columns]"
      ]
     },
     "execution_count": 5,
     "metadata": {},
     "output_type": "execute_result"
    }
   ],
   "source": [
    "import pandas as pd\n",
    "\n",
    "# you might have to adjust the path to the dataset\n",
    "df_train = pd.read_csv(\"../../data/challenge-train.csv\", header=None)\n",
    "df_train.head()"
   ]
  },
  {
   "cell_type": "code",
   "execution_count": 6,
   "metadata": {},
   "outputs": [],
   "source": [
    "# convert the pandas dataframe to a numpy array\n",
    "# make sure you do not include the final column\n",
    "# in your training data (X) but store it as target (y)\n",
    "X = df_train.as_matrix()[:, :-1]\n",
    "y = df_train.as_matrix()[:, -1]"
   ]
  },
  {
   "cell_type": "code",
   "execution_count": 7,
   "metadata": {},
   "outputs": [
    {
     "data": {
      "text/plain": [
       "(45000, 48)"
      ]
     },
     "execution_count": 7,
     "metadata": {},
     "output_type": "execute_result"
    }
   ],
   "source": [
    "X.shape"
   ]
  },
  {
   "cell_type": "code",
   "execution_count": 8,
   "metadata": {},
   "outputs": [
    {
     "data": {
      "text/plain": [
       "(45000,)"
      ]
     },
     "execution_count": 8,
     "metadata": {},
     "output_type": "execute_result"
    }
   ],
   "source": [
    "y.shape"
   ]
  },
  {
   "cell_type": "code",
   "execution_count": null,
   "metadata": {},
   "outputs": [],
   "source": []
  }
 ],
 "metadata": {
  "kernelspec": {
   "display_name": "Python 3",
   "language": "python",
   "name": "python3"
  },
  "language_info": {
   "codemirror_mode": {
    "name": "ipython",
    "version": 3
   },
   "file_extension": ".py",
   "mimetype": "text/x-python",
   "name": "python",
   "nbconvert_exporter": "python",
   "pygments_lexer": "ipython3",
   "version": "3.6.2"
  }
 },
 "nbformat": 4,
 "nbformat_minor": 2
}
